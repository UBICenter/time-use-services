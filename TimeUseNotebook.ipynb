{
 "cells": [
  {
   "cell_type": "code",
   "execution_count": 1,
   "metadata": {},
   "outputs": [],
   "source": [
    "import pandas as pd\n",
    "\n"
   ]
  },
  {
   "cell_type": "code",
   "execution_count": 2,
   "metadata": {},
   "outputs": [],
   "source": [
    "combined_roster = pd.read_csv(\"data/atusrost-0319/atusrost_0319.dat\")\n",
    "combined_summary = pd.read_csv(\"data/atussum-0319/atussum_0319.dat\")\n",
    "combined_resp = pd.read_csv(\"data/atusresp-0319/atusresp_0319.dat\")"
   ]
  },
  {
   "cell_type": "code",
   "execution_count": 3,
   "metadata": {},
   "outputs": [
    {
     "data": {
      "text/html": "<div>\n<style scoped>\n    .dataframe tbody tr th:only-of-type {\n        vertical-align: middle;\n    }\n\n    .dataframe tbody tr th {\n        vertical-align: top;\n    }\n\n    .dataframe thead th {\n        text-align: right;\n    }\n</style>\n<table border=\"1\" class=\"dataframe\">\n  <thead>\n    <tr style=\"text-align: right;\">\n      <th></th>\n      <th>TUCASEID</th>\n      <th>TUACTIVITY_N</th>\n      <th>TEWHERE</th>\n      <th>TRTCCTOT_LN</th>\n      <th>TRTCC_LN</th>\n      <th>TRTCOC_LN</th>\n      <th>TRTEC_LN</th>\n      <th>TRTHH_LN</th>\n      <th>TRTNOHH_LN</th>\n      <th>TRTOHH_LN</th>\n      <th>...</th>\n      <th>TUDURSTOP</th>\n      <th>TUEC24</th>\n      <th>TUSTARTTIM</th>\n      <th>TUSTOPTIME</th>\n      <th>TUTIER1CODE</th>\n      <th>TUTIER2CODE</th>\n      <th>TUTIER3CODE</th>\n      <th>TRCODE</th>\n      <th>TRTIER2</th>\n      <th>TXWHERE</th>\n    </tr>\n  </thead>\n  <tbody>\n    <tr>\n      <th>0</th>\n      <td>20190101190022</td>\n      <td>1</td>\n      <td>-1</td>\n      <td>0</td>\n      <td>-1</td>\n      <td>0</td>\n      <td>-1</td>\n      <td>-1</td>\n      <td>-1</td>\n      <td>-1</td>\n      <td>...</td>\n      <td>2</td>\n      <td>-1</td>\n      <td>04:00:00</td>\n      <td>07:00:00</td>\n      <td>1</td>\n      <td>1</td>\n      <td>1</td>\n      <td>10101</td>\n      <td>101</td>\n      <td>0</td>\n    </tr>\n    <tr>\n      <th>1</th>\n      <td>20190101190022</td>\n      <td>2</td>\n      <td>-1</td>\n      <td>0</td>\n      <td>-1</td>\n      <td>0</td>\n      <td>-1</td>\n      <td>-1</td>\n      <td>-1</td>\n      <td>-1</td>\n      <td>...</td>\n      <td>1</td>\n      <td>-1</td>\n      <td>07:00:00</td>\n      <td>07:30:00</td>\n      <td>1</td>\n      <td>2</td>\n      <td>1</td>\n      <td>10201</td>\n      <td>102</td>\n      <td>0</td>\n    </tr>\n    <tr>\n      <th>2</th>\n      <td>20190101190022</td>\n      <td>3</td>\n      <td>12</td>\n      <td>0</td>\n      <td>-1</td>\n      <td>0</td>\n      <td>-1</td>\n      <td>-1</td>\n      <td>-1</td>\n      <td>-1</td>\n      <td>...</td>\n      <td>1</td>\n      <td>-1</td>\n      <td>07:30:00</td>\n      <td>08:00:00</td>\n      <td>18</td>\n      <td>14</td>\n      <td>1</td>\n      <td>181401</td>\n      <td>1814</td>\n      <td>0</td>\n    </tr>\n    <tr>\n      <th>3</th>\n      <td>20190101190022</td>\n      <td>4</td>\n      <td>5</td>\n      <td>0</td>\n      <td>-1</td>\n      <td>0</td>\n      <td>-1</td>\n      <td>-1</td>\n      <td>-1</td>\n      <td>-1</td>\n      <td>...</td>\n      <td>2</td>\n      <td>-1</td>\n      <td>08:00:00</td>\n      <td>12:00:00</td>\n      <td>14</td>\n      <td>1</td>\n      <td>1</td>\n      <td>140101</td>\n      <td>1401</td>\n      <td>0</td>\n    </tr>\n    <tr>\n      <th>4</th>\n      <td>20190101190022</td>\n      <td>5</td>\n      <td>12</td>\n      <td>0</td>\n      <td>-1</td>\n      <td>0</td>\n      <td>-1</td>\n      <td>-1</td>\n      <td>-1</td>\n      <td>-1</td>\n      <td>...</td>\n      <td>1</td>\n      <td>-1</td>\n      <td>12:00:00</td>\n      <td>12:30:00</td>\n      <td>18</td>\n      <td>14</td>\n      <td>1</td>\n      <td>181401</td>\n      <td>1814</td>\n      <td>0</td>\n    </tr>\n    <tr>\n      <th>...</th>\n      <td>...</td>\n      <td>...</td>\n      <td>...</td>\n      <td>...</td>\n      <td>...</td>\n      <td>...</td>\n      <td>...</td>\n      <td>...</td>\n      <td>...</td>\n      <td>...</td>\n      <td>...</td>\n      <td>...</td>\n      <td>...</td>\n      <td>...</td>\n      <td>...</td>\n      <td>...</td>\n      <td>...</td>\n      <td>...</td>\n      <td>...</td>\n      <td>...</td>\n      <td>...</td>\n    </tr>\n    <tr>\n      <th>182975</th>\n      <td>20191212192270</td>\n      <td>10</td>\n      <td>1</td>\n      <td>0</td>\n      <td>0</td>\n      <td>0</td>\n      <td>-1</td>\n      <td>0</td>\n      <td>-1</td>\n      <td>0</td>\n      <td>...</td>\n      <td>2</td>\n      <td>-1</td>\n      <td>13:52:00</td>\n      <td>15:30:00</td>\n      <td>3</td>\n      <td>1</td>\n      <td>3</td>\n      <td>30103</td>\n      <td>301</td>\n      <td>0</td>\n    </tr>\n    <tr>\n      <th>182976</th>\n      <td>20191212192270</td>\n      <td>11</td>\n      <td>13</td>\n      <td>30</td>\n      <td>30</td>\n      <td>0</td>\n      <td>-1</td>\n      <td>30</td>\n      <td>-1</td>\n      <td>30</td>\n      <td>...</td>\n      <td>1</td>\n      <td>-1</td>\n      <td>15:30:00</td>\n      <td>16:00:00</td>\n      <td>18</td>\n      <td>12</td>\n      <td>1</td>\n      <td>181201</td>\n      <td>1812</td>\n      <td>0</td>\n    </tr>\n    <tr>\n      <th>182977</th>\n      <td>20191212192270</td>\n      <td>12</td>\n      <td>3</td>\n      <td>390</td>\n      <td>390</td>\n      <td>0</td>\n      <td>-1</td>\n      <td>390</td>\n      <td>-1</td>\n      <td>390</td>\n      <td>...</td>\n      <td>2</td>\n      <td>-1</td>\n      <td>16:00:00</td>\n      <td>22:30:00</td>\n      <td>12</td>\n      <td>1</td>\n      <td>1</td>\n      <td>120101</td>\n      <td>1201</td>\n      <td>0</td>\n    </tr>\n    <tr>\n      <th>182978</th>\n      <td>20191212192270</td>\n      <td>13</td>\n      <td>13</td>\n      <td>30</td>\n      <td>30</td>\n      <td>0</td>\n      <td>-1</td>\n      <td>30</td>\n      <td>-1</td>\n      <td>30</td>\n      <td>...</td>\n      <td>1</td>\n      <td>-1</td>\n      <td>22:30:00</td>\n      <td>23:00:00</td>\n      <td>18</td>\n      <td>12</td>\n      <td>1</td>\n      <td>181201</td>\n      <td>1812</td>\n      <td>0</td>\n    </tr>\n    <tr>\n      <th>182979</th>\n      <td>20191212192270</td>\n      <td>14</td>\n      <td>-1</td>\n      <td>0</td>\n      <td>0</td>\n      <td>0</td>\n      <td>-1</td>\n      <td>0</td>\n      <td>-1</td>\n      <td>0</td>\n      <td>...</td>\n      <td>2</td>\n      <td>-1</td>\n      <td>23:00:00</td>\n      <td>09:00:00</td>\n      <td>1</td>\n      <td>1</td>\n      <td>1</td>\n      <td>10101</td>\n      <td>101</td>\n      <td>0</td>\n    </tr>\n  </tbody>\n</table>\n<p>182980 rows × 30 columns</p>\n</div>",
      "text/plain": "              TUCASEID  TUACTIVITY_N  TEWHERE  TRTCCTOT_LN  TRTCC_LN  \\\n0       20190101190022             1       -1            0        -1   \n1       20190101190022             2       -1            0        -1   \n2       20190101190022             3       12            0        -1   \n3       20190101190022             4        5            0        -1   \n4       20190101190022             5       12            0        -1   \n...                ...           ...      ...          ...       ...   \n182975  20191212192270            10        1            0         0   \n182976  20191212192270            11       13           30        30   \n182977  20191212192270            12        3          390       390   \n182978  20191212192270            13       13           30        30   \n182979  20191212192270            14       -1            0         0   \n\n        TRTCOC_LN  TRTEC_LN  TRTHH_LN  TRTNOHH_LN  TRTOHH_LN  ...  TUDURSTOP  \\\n0               0        -1        -1          -1         -1  ...          2   \n1               0        -1        -1          -1         -1  ...          1   \n2               0        -1        -1          -1         -1  ...          1   \n3               0        -1        -1          -1         -1  ...          2   \n4               0        -1        -1          -1         -1  ...          1   \n...           ...       ...       ...         ...        ...  ...        ...   \n182975          0        -1         0          -1          0  ...          2   \n182976          0        -1        30          -1         30  ...          1   \n182977          0        -1       390          -1        390  ...          2   \n182978          0        -1        30          -1         30  ...          1   \n182979          0        -1         0          -1          0  ...          2   \n\n        TUEC24  TUSTARTTIM  TUSTOPTIME  TUTIER1CODE  TUTIER2CODE  TUTIER3CODE  \\\n0           -1    04:00:00    07:00:00            1            1            1   \n1           -1    07:00:00    07:30:00            1            2            1   \n2           -1    07:30:00    08:00:00           18           14            1   \n3           -1    08:00:00    12:00:00           14            1            1   \n4           -1    12:00:00    12:30:00           18           14            1   \n...        ...         ...         ...          ...          ...          ...   \n182975      -1    13:52:00    15:30:00            3            1            3   \n182976      -1    15:30:00    16:00:00           18           12            1   \n182977      -1    16:00:00    22:30:00           12            1            1   \n182978      -1    22:30:00    23:00:00           18           12            1   \n182979      -1    23:00:00    09:00:00            1            1            1   \n\n        TRCODE  TRTIER2  TXWHERE  \n0        10101      101        0  \n1        10201      102        0  \n2       181401     1814        0  \n3       140101     1401        0  \n4       181401     1814        0  \n...        ...      ...      ...  \n182975   30103      301        0  \n182976  181201     1812        0  \n182977  120101     1201        0  \n182978  181201     1812        0  \n182979   10101      101        0  \n\n[182980 rows x 30 columns]"
     },
     "execution_count": 3,
     "metadata": {},
     "output_type": "execute_result"
    }
   ],
   "source": [
    "combined_act\n",
    "# Column Names\n",
    "# TEWHERE = Where\n",
    "# TUSTARTTIME = Activity Start Time\n",
    "# TUSTOPTIME = Activity Stop Time\n",
    "# TRCODE = 6 Digit Activity Code\n",
    "# TRTIER2 = 4 Digit Activity Code\n",
    "# TUTIER1CODE + TUTIER2CODE + TUTIER3CODE = TRCODE with 0's in between \n",
    "# TUTIER1CODE + TUTIER2CODE = TRTIER2 with a 0 in between\n",
    "# TRTEC_LN = Time spent providing eldercare during activity \n",
    "# TRTHH_LN = Time spent providing secondary childcare for household during activity \n",
    "# Values: -1 = Blank, -2 = Don't Know, -3 = Refused"
   ]
  },
  {
   "cell_type": "code",
   "execution_count": 9,
   "metadata": {},
   "outputs": [
    {
     "data": {
      "text/html": "<div>\n<style scoped>\n    .dataframe tbody tr th:only-of-type {\n        vertical-align: middle;\n    }\n\n    .dataframe tbody tr th {\n        vertical-align: top;\n    }\n\n    .dataframe thead th {\n        text-align: right;\n    }\n</style>\n<table border=\"1\" class=\"dataframe\">\n  <thead>\n    <tr style=\"text-align: right;\">\n      <th></th>\n      <th>TUCASEID</th>\n      <th>TULINENO</th>\n      <th>TERRP</th>\n      <th>TEAGE</th>\n      <th>TESEX</th>\n    </tr>\n  </thead>\n  <tbody>\n    <tr>\n      <th>0</th>\n      <td>20030100013280</td>\n      <td>1</td>\n      <td>18</td>\n      <td>60</td>\n      <td>1</td>\n    </tr>\n    <tr>\n      <th>1</th>\n      <td>20030100013280</td>\n      <td>2</td>\n      <td>20</td>\n      <td>72</td>\n      <td>2</td>\n    </tr>\n    <tr>\n      <th>2</th>\n      <td>20030100013280</td>\n      <td>3</td>\n      <td>22</td>\n      <td>37</td>\n      <td>2</td>\n    </tr>\n    <tr>\n      <th>3</th>\n      <td>20030100013344</td>\n      <td>1</td>\n      <td>18</td>\n      <td>41</td>\n      <td>2</td>\n    </tr>\n    <tr>\n      <th>4</th>\n      <td>20030100013344</td>\n      <td>2</td>\n      <td>20</td>\n      <td>42</td>\n      <td>1</td>\n    </tr>\n    <tr>\n      <th>...</th>\n      <td>...</td>\n      <td>...</td>\n      <td>...</td>\n      <td>...</td>\n      <td>...</td>\n    </tr>\n    <tr>\n      <th>581509</th>\n      <td>20191212192265</td>\n      <td>2</td>\n      <td>21</td>\n      <td>57</td>\n      <td>2</td>\n    </tr>\n    <tr>\n      <th>581510</th>\n      <td>20191212192270</td>\n      <td>1</td>\n      <td>18</td>\n      <td>45</td>\n      <td>2</td>\n    </tr>\n    <tr>\n      <th>581511</th>\n      <td>20191212192270</td>\n      <td>2</td>\n      <td>20</td>\n      <td>62</td>\n      <td>1</td>\n    </tr>\n    <tr>\n      <th>581512</th>\n      <td>20191212192270</td>\n      <td>3</td>\n      <td>22</td>\n      <td>10</td>\n      <td>1</td>\n    </tr>\n    <tr>\n      <th>581513</th>\n      <td>20191212192270</td>\n      <td>4</td>\n      <td>22</td>\n      <td>10</td>\n      <td>1</td>\n    </tr>\n  </tbody>\n</table>\n<p>581514 rows × 5 columns</p>\n</div>",
      "text/plain": "              TUCASEID  TULINENO  TERRP  TEAGE  TESEX\n0       20030100013280         1     18     60      1\n1       20030100013280         2     20     72      2\n2       20030100013280         3     22     37      2\n3       20030100013344         1     18     41      2\n4       20030100013344         2     20     42      1\n...                ...       ...    ...    ...    ...\n581509  20191212192265         2     21     57      2\n581510  20191212192270         1     18     45      2\n581511  20191212192270         2     20     62      1\n581512  20191212192270         3     22     10      1\n581513  20191212192270         4     22     10      1\n\n[581514 rows x 5 columns]"
     },
     "execution_count": 9,
     "metadata": {},
     "output_type": "execute_result"
    }
   ],
   "source": [
    "combined_roster"
   ]
  },
  {
   "cell_type": "code",
   "execution_count": 10,
   "metadata": {},
   "outputs": [
    {
     "data": {
      "text/html": "<div>\n<style scoped>\n    .dataframe tbody tr th:only-of-type {\n        vertical-align: middle;\n    }\n\n    .dataframe tbody tr th {\n        vertical-align: top;\n    }\n\n    .dataframe thead th {\n        text-align: right;\n    }\n</style>\n<table border=\"1\" class=\"dataframe\">\n  <thead>\n    <tr style=\"text-align: right;\">\n      <th></th>\n      <th>TUCASEID</th>\n      <th>GEMETSTA</th>\n      <th>GTMETSTA</th>\n      <th>PEEDUCA</th>\n      <th>PEHSPNON</th>\n      <th>PTDTRACE</th>\n      <th>TEAGE</th>\n      <th>TELFS</th>\n      <th>TEMJOT</th>\n      <th>TESCHENR</th>\n      <th>...</th>\n      <th>t181801</th>\n      <th>t181899</th>\n      <th>t189999</th>\n      <th>t500101</th>\n      <th>t500103</th>\n      <th>t500104</th>\n      <th>t500105</th>\n      <th>t500106</th>\n      <th>t500107</th>\n      <th>t509989</th>\n    </tr>\n  </thead>\n  <tbody>\n    <tr>\n      <th>0</th>\n      <td>20030100013280</td>\n      <td>1</td>\n      <td>-1</td>\n      <td>44</td>\n      <td>2</td>\n      <td>2</td>\n      <td>60</td>\n      <td>2</td>\n      <td>2</td>\n      <td>-1</td>\n      <td>...</td>\n      <td>0</td>\n      <td>0</td>\n      <td>0</td>\n      <td>0</td>\n      <td>0</td>\n      <td>0</td>\n      <td>0</td>\n      <td>0</td>\n      <td>0</td>\n      <td>0</td>\n    </tr>\n    <tr>\n      <th>1</th>\n      <td>20030100013344</td>\n      <td>2</td>\n      <td>-1</td>\n      <td>40</td>\n      <td>2</td>\n      <td>1</td>\n      <td>41</td>\n      <td>1</td>\n      <td>2</td>\n      <td>2</td>\n      <td>...</td>\n      <td>0</td>\n      <td>0</td>\n      <td>0</td>\n      <td>0</td>\n      <td>0</td>\n      <td>0</td>\n      <td>0</td>\n      <td>0</td>\n      <td>0</td>\n      <td>0</td>\n    </tr>\n    <tr>\n      <th>2</th>\n      <td>20030100013352</td>\n      <td>1</td>\n      <td>-1</td>\n      <td>41</td>\n      <td>2</td>\n      <td>1</td>\n      <td>26</td>\n      <td>2</td>\n      <td>2</td>\n      <td>2</td>\n      <td>...</td>\n      <td>0</td>\n      <td>0</td>\n      <td>0</td>\n      <td>0</td>\n      <td>0</td>\n      <td>0</td>\n      <td>0</td>\n      <td>0</td>\n      <td>0</td>\n      <td>0</td>\n    </tr>\n    <tr>\n      <th>3</th>\n      <td>20030100013848</td>\n      <td>2</td>\n      <td>-1</td>\n      <td>39</td>\n      <td>2</td>\n      <td>2</td>\n      <td>36</td>\n      <td>4</td>\n      <td>-1</td>\n      <td>2</td>\n      <td>...</td>\n      <td>0</td>\n      <td>0</td>\n      <td>0</td>\n      <td>0</td>\n      <td>0</td>\n      <td>0</td>\n      <td>0</td>\n      <td>0</td>\n      <td>0</td>\n      <td>0</td>\n    </tr>\n    <tr>\n      <th>4</th>\n      <td>20030100014165</td>\n      <td>2</td>\n      <td>-1</td>\n      <td>45</td>\n      <td>2</td>\n      <td>1</td>\n      <td>51</td>\n      <td>1</td>\n      <td>2</td>\n      <td>-1</td>\n      <td>...</td>\n      <td>0</td>\n      <td>0</td>\n      <td>0</td>\n      <td>0</td>\n      <td>0</td>\n      <td>0</td>\n      <td>0</td>\n      <td>0</td>\n      <td>0</td>\n      <td>0</td>\n    </tr>\n    <tr>\n      <th>...</th>\n      <td>...</td>\n      <td>...</td>\n      <td>...</td>\n      <td>...</td>\n      <td>...</td>\n      <td>...</td>\n      <td>...</td>\n      <td>...</td>\n      <td>...</td>\n      <td>...</td>\n      <td>...</td>\n      <td>...</td>\n      <td>...</td>\n      <td>...</td>\n      <td>...</td>\n      <td>...</td>\n      <td>...</td>\n      <td>...</td>\n      <td>...</td>\n      <td>...</td>\n      <td>...</td>\n    </tr>\n    <tr>\n      <th>210581</th>\n      <td>20191212192229</td>\n      <td>-1</td>\n      <td>1</td>\n      <td>41</td>\n      <td>2</td>\n      <td>1</td>\n      <td>66</td>\n      <td>1</td>\n      <td>2</td>\n      <td>-1</td>\n      <td>...</td>\n      <td>0</td>\n      <td>0</td>\n      <td>0</td>\n      <td>0</td>\n      <td>0</td>\n      <td>0</td>\n      <td>0</td>\n      <td>85</td>\n      <td>0</td>\n      <td>0</td>\n    </tr>\n    <tr>\n      <th>210582</th>\n      <td>20191212192255</td>\n      <td>-1</td>\n      <td>2</td>\n      <td>43</td>\n      <td>2</td>\n      <td>1</td>\n      <td>41</td>\n      <td>1</td>\n      <td>2</td>\n      <td>2</td>\n      <td>...</td>\n      <td>0</td>\n      <td>0</td>\n      <td>0</td>\n      <td>0</td>\n      <td>0</td>\n      <td>0</td>\n      <td>0</td>\n      <td>0</td>\n      <td>0</td>\n      <td>0</td>\n    </tr>\n    <tr>\n      <th>210583</th>\n      <td>20191212192256</td>\n      <td>-1</td>\n      <td>1</td>\n      <td>43</td>\n      <td>2</td>\n      <td>1</td>\n      <td>75</td>\n      <td>1</td>\n      <td>2</td>\n      <td>-1</td>\n      <td>...</td>\n      <td>0</td>\n      <td>0</td>\n      <td>0</td>\n      <td>0</td>\n      <td>0</td>\n      <td>0</td>\n      <td>0</td>\n      <td>0</td>\n      <td>0</td>\n      <td>0</td>\n    </tr>\n    <tr>\n      <th>210584</th>\n      <td>20191212192265</td>\n      <td>-1</td>\n      <td>1</td>\n      <td>44</td>\n      <td>2</td>\n      <td>1</td>\n      <td>56</td>\n      <td>1</td>\n      <td>2</td>\n      <td>-1</td>\n      <td>...</td>\n      <td>0</td>\n      <td>0</td>\n      <td>0</td>\n      <td>0</td>\n      <td>0</td>\n      <td>0</td>\n      <td>0</td>\n      <td>0</td>\n      <td>0</td>\n      <td>0</td>\n    </tr>\n    <tr>\n      <th>210585</th>\n      <td>20191212192270</td>\n      <td>-1</td>\n      <td>1</td>\n      <td>42</td>\n      <td>2</td>\n      <td>1</td>\n      <td>45</td>\n      <td>1</td>\n      <td>2</td>\n      <td>2</td>\n      <td>...</td>\n      <td>0</td>\n      <td>0</td>\n      <td>0</td>\n      <td>0</td>\n      <td>0</td>\n      <td>0</td>\n      <td>0</td>\n      <td>0</td>\n      <td>0</td>\n      <td>0</td>\n    </tr>\n  </tbody>\n</table>\n<p>210586 rows × 455 columns</p>\n</div>",
      "text/plain": "              TUCASEID  GEMETSTA  GTMETSTA  PEEDUCA  PEHSPNON  PTDTRACE  \\\n0       20030100013280         1        -1       44         2         2   \n1       20030100013344         2        -1       40         2         1   \n2       20030100013352         1        -1       41         2         1   \n3       20030100013848         2        -1       39         2         2   \n4       20030100014165         2        -1       45         2         1   \n...                ...       ...       ...      ...       ...       ...   \n210581  20191212192229        -1         1       41         2         1   \n210582  20191212192255        -1         2       43         2         1   \n210583  20191212192256        -1         1       43         2         1   \n210584  20191212192265        -1         1       44         2         1   \n210585  20191212192270        -1         1       42         2         1   \n\n        TEAGE  TELFS  TEMJOT  TESCHENR  ...  t181801  t181899  t189999  \\\n0          60      2       2        -1  ...        0        0        0   \n1          41      1       2         2  ...        0        0        0   \n2          26      2       2         2  ...        0        0        0   \n3          36      4      -1         2  ...        0        0        0   \n4          51      1       2        -1  ...        0        0        0   \n...       ...    ...     ...       ...  ...      ...      ...      ...   \n210581     66      1       2        -1  ...        0        0        0   \n210582     41      1       2         2  ...        0        0        0   \n210583     75      1       2        -1  ...        0        0        0   \n210584     56      1       2        -1  ...        0        0        0   \n210585     45      1       2         2  ...        0        0        0   \n\n        t500101  t500103  t500104  t500105  t500106  t500107  t509989  \n0             0        0        0        0        0        0        0  \n1             0        0        0        0        0        0        0  \n2             0        0        0        0        0        0        0  \n3             0        0        0        0        0        0        0  \n4             0        0        0        0        0        0        0  \n...         ...      ...      ...      ...      ...      ...      ...  \n210581        0        0        0        0       85        0        0  \n210582        0        0        0        0        0        0        0  \n210583        0        0        0        0        0        0        0  \n210584        0        0        0        0        0        0        0  \n210585        0        0        0        0        0        0        0  \n\n[210586 rows x 455 columns]"
     },
     "execution_count": 10,
     "metadata": {},
     "output_type": "execute_result"
    }
   ],
   "source": [
    "combined_summary"
   ]
  },
  {
   "cell_type": "code",
   "execution_count": 11,
   "metadata": {},
   "outputs": [
    {
     "name": "stdout",
     "output_type": "stream",
     "text": [
      "<class 'pandas.core.frame.DataFrame'>\n",
      "RangeIndex: 210586 entries, 0 to 210585\n",
      "Columns: 455 entries, TUCASEID to t509989\n",
      "dtypes: float64(1), int64(454)\n",
      "memory usage: 731.0 MB\n"
     ]
    }
   ],
   "source": [
    "combined_summary.info()"
   ]
  },
  {
   "cell_type": "code",
   "execution_count": 12,
   "metadata": {},
   "outputs": [
    {
     "data": {
      "text/html": "<div>\n<style scoped>\n    .dataframe tbody tr th:only-of-type {\n        vertical-align: middle;\n    }\n\n    .dataframe tbody tr th {\n        vertical-align: top;\n    }\n\n    .dataframe thead th {\n        text-align: right;\n    }\n</style>\n<table border=\"1\" class=\"dataframe\">\n  <thead>\n    <tr style=\"text-align: right;\">\n      <th></th>\n      <th>TUCASEID</th>\n      <th>TULINENO</th>\n      <th>TESPUHRS</th>\n      <th>TRDTIND1</th>\n      <th>TRDTOCC1</th>\n      <th>TRERNHLY</th>\n      <th>TRERNUPD</th>\n      <th>TRHERNAL</th>\n      <th>TRHHCHILD</th>\n      <th>TRIMIND1</th>\n      <th>...</th>\n      <th>TRYHHCHILD</th>\n      <th>TRWBMODR</th>\n      <th>TRTALONE_WK</th>\n      <th>TRTCCC_WK</th>\n      <th>TRLVMODR</th>\n      <th>TRTEC</th>\n      <th>TUECYTD</th>\n      <th>TUELDER</th>\n      <th>TUELFREQ</th>\n      <th>TUELNUM</th>\n    </tr>\n  </thead>\n  <tbody>\n    <tr>\n      <th>0</th>\n      <td>20030100013280</td>\n      <td>1</td>\n      <td>-1.0</td>\n      <td>40</td>\n      <td>8</td>\n      <td>2200.0</td>\n      <td>1</td>\n      <td>1</td>\n      <td>2</td>\n      <td>15</td>\n      <td>...</td>\n      <td>-1</td>\n      <td>-1</td>\n      <td>-1</td>\n      <td>-1</td>\n      <td>-1</td>\n      <td>-1</td>\n      <td>-1</td>\n      <td>-1</td>\n      <td>-1</td>\n      <td>-1</td>\n    </tr>\n    <tr>\n      <th>1</th>\n      <td>20030100013344</td>\n      <td>1</td>\n      <td>50.0</td>\n      <td>16</td>\n      <td>16</td>\n      <td>-1.0</td>\n      <td>1</td>\n      <td>-1</td>\n      <td>1</td>\n      <td>5</td>\n      <td>...</td>\n      <td>0</td>\n      <td>-1</td>\n      <td>-1</td>\n      <td>-1</td>\n      <td>-1</td>\n      <td>-1</td>\n      <td>-1</td>\n      <td>-1</td>\n      <td>-1</td>\n      <td>-1</td>\n    </tr>\n    <tr>\n      <th>2</th>\n      <td>20030100013352</td>\n      <td>1</td>\n      <td>-1.0</td>\n      <td>43</td>\n      <td>15</td>\n      <td>1250.0</td>\n      <td>0</td>\n      <td>0</td>\n      <td>2</td>\n      <td>16</td>\n      <td>...</td>\n      <td>-1</td>\n      <td>-1</td>\n      <td>-1</td>\n      <td>-1</td>\n      <td>-1</td>\n      <td>-1</td>\n      <td>-1</td>\n      <td>-1</td>\n      <td>-1</td>\n      <td>-1</td>\n    </tr>\n    <tr>\n      <th>3</th>\n      <td>20030100013848</td>\n      <td>1</td>\n      <td>40.0</td>\n      <td>-1</td>\n      <td>-1</td>\n      <td>-1.0</td>\n      <td>-1</td>\n      <td>-1</td>\n      <td>1</td>\n      <td>-1</td>\n      <td>...</td>\n      <td>9</td>\n      <td>-1</td>\n      <td>-1</td>\n      <td>-1</td>\n      <td>-1</td>\n      <td>-1</td>\n      <td>-1</td>\n      <td>-1</td>\n      <td>-1</td>\n      <td>-1</td>\n    </tr>\n    <tr>\n      <th>4</th>\n      <td>20030100014165</td>\n      <td>1</td>\n      <td>-1.0</td>\n      <td>42</td>\n      <td>10</td>\n      <td>-1.0</td>\n      <td>-1</td>\n      <td>-1</td>\n      <td>1</td>\n      <td>16</td>\n      <td>...</td>\n      <td>14</td>\n      <td>-1</td>\n      <td>-1</td>\n      <td>-1</td>\n      <td>-1</td>\n      <td>-1</td>\n      <td>-1</td>\n      <td>-1</td>\n      <td>-1</td>\n      <td>-1</td>\n    </tr>\n    <tr>\n      <th>...</th>\n      <td>...</td>\n      <td>...</td>\n      <td>...</td>\n      <td>...</td>\n      <td>...</td>\n      <td>...</td>\n      <td>...</td>\n      <td>...</td>\n      <td>...</td>\n      <td>...</td>\n      <td>...</td>\n      <td>...</td>\n      <td>...</td>\n      <td>...</td>\n      <td>...</td>\n      <td>...</td>\n      <td>...</td>\n      <td>...</td>\n      <td>...</td>\n      <td>...</td>\n      <td>...</td>\n    </tr>\n    <tr>\n      <th>210581</th>\n      <td>20191212192229</td>\n      <td>1</td>\n      <td>-1.0</td>\n      <td>41</td>\n      <td>10</td>\n      <td>4100.0</td>\n      <td>0</td>\n      <td>0</td>\n      <td>2</td>\n      <td>16</td>\n      <td>...</td>\n      <td>-1</td>\n      <td>-1</td>\n      <td>245</td>\n      <td>0</td>\n      <td>-1</td>\n      <td>-1</td>\n      <td>-1</td>\n      <td>2</td>\n      <td>-1</td>\n      <td>-1</td>\n    </tr>\n    <tr>\n      <th>210582</th>\n      <td>20191212192255</td>\n      <td>1</td>\n      <td>40.0</td>\n      <td>51</td>\n      <td>2</td>\n      <td>2217.0</td>\n      <td>0</td>\n      <td>0</td>\n      <td>1</td>\n      <td>21</td>\n      <td>...</td>\n      <td>9</td>\n      <td>-1</td>\n      <td>240</td>\n      <td>0</td>\n      <td>-1</td>\n      <td>-1</td>\n      <td>-1</td>\n      <td>2</td>\n      <td>-1</td>\n      <td>-1</td>\n    </tr>\n    <tr>\n      <th>210583</th>\n      <td>20191212192256</td>\n      <td>1</td>\n      <td>-1.0</td>\n      <td>1</td>\n      <td>1</td>\n      <td>-1.0</td>\n      <td>-1</td>\n      <td>-1</td>\n      <td>2</td>\n      <td>1</td>\n      <td>...</td>\n      <td>-1</td>\n      <td>-1</td>\n      <td>525</td>\n      <td>0</td>\n      <td>-1</td>\n      <td>140</td>\n      <td>1</td>\n      <td>1</td>\n      <td>2</td>\n      <td>1</td>\n    </tr>\n    <tr>\n      <th>210584</th>\n      <td>20191212192265</td>\n      <td>1</td>\n      <td>40.0</td>\n      <td>42</td>\n      <td>6</td>\n      <td>-1.0</td>\n      <td>0</td>\n      <td>-1</td>\n      <td>2</td>\n      <td>16</td>\n      <td>...</td>\n      <td>-1</td>\n      <td>-1</td>\n      <td>245</td>\n      <td>485</td>\n      <td>-1</td>\n      <td>-1</td>\n      <td>-1</td>\n      <td>2</td>\n      <td>-1</td>\n      <td>-1</td>\n    </tr>\n    <tr>\n      <th>210585</th>\n      <td>20191212192270</td>\n      <td>1</td>\n      <td>40.0</td>\n      <td>23</td>\n      <td>2</td>\n      <td>-1.0</td>\n      <td>0</td>\n      <td>-1</td>\n      <td>1</td>\n      <td>8</td>\n      <td>...</td>\n      <td>10</td>\n      <td>-1</td>\n      <td>0</td>\n      <td>0</td>\n      <td>-1</td>\n      <td>-1</td>\n      <td>-1</td>\n      <td>2</td>\n      <td>-1</td>\n      <td>-1</td>\n    </tr>\n  </tbody>\n</table>\n<p>210586 rows × 132 columns</p>\n</div>",
      "text/plain": "              TUCASEID  TULINENO  TESPUHRS  TRDTIND1  TRDTOCC1  TRERNHLY  \\\n0       20030100013280         1      -1.0        40         8    2200.0   \n1       20030100013344         1      50.0        16        16      -1.0   \n2       20030100013352         1      -1.0        43        15    1250.0   \n3       20030100013848         1      40.0        -1        -1      -1.0   \n4       20030100014165         1      -1.0        42        10      -1.0   \n...                ...       ...       ...       ...       ...       ...   \n210581  20191212192229         1      -1.0        41        10    4100.0   \n210582  20191212192255         1      40.0        51         2    2217.0   \n210583  20191212192256         1      -1.0         1         1      -1.0   \n210584  20191212192265         1      40.0        42         6      -1.0   \n210585  20191212192270         1      40.0        23         2      -1.0   \n\n        TRERNUPD  TRHERNAL  TRHHCHILD  TRIMIND1  ...  TRYHHCHILD  TRWBMODR  \\\n0              1         1          2        15  ...          -1        -1   \n1              1        -1          1         5  ...           0        -1   \n2              0         0          2        16  ...          -1        -1   \n3             -1        -1          1        -1  ...           9        -1   \n4             -1        -1          1        16  ...          14        -1   \n...          ...       ...        ...       ...  ...         ...       ...   \n210581         0         0          2        16  ...          -1        -1   \n210582         0         0          1        21  ...           9        -1   \n210583        -1        -1          2         1  ...          -1        -1   \n210584         0        -1          2        16  ...          -1        -1   \n210585         0        -1          1         8  ...          10        -1   \n\n        TRTALONE_WK  TRTCCC_WK  TRLVMODR  TRTEC  TUECYTD  TUELDER  TUELFREQ  \\\n0                -1         -1        -1     -1       -1       -1        -1   \n1                -1         -1        -1     -1       -1       -1        -1   \n2                -1         -1        -1     -1       -1       -1        -1   \n3                -1         -1        -1     -1       -1       -1        -1   \n4                -1         -1        -1     -1       -1       -1        -1   \n...             ...        ...       ...    ...      ...      ...       ...   \n210581          245          0        -1     -1       -1        2        -1   \n210582          240          0        -1     -1       -1        2        -1   \n210583          525          0        -1    140        1        1         2   \n210584          245        485        -1     -1       -1        2        -1   \n210585            0          0        -1     -1       -1        2        -1   \n\n        TUELNUM  \n0            -1  \n1            -1  \n2            -1  \n3            -1  \n4            -1  \n...         ...  \n210581       -1  \n210582       -1  \n210583        1  \n210584       -1  \n210585       -1  \n\n[210586 rows x 132 columns]"
     },
     "execution_count": 12,
     "metadata": {},
     "output_type": "execute_result"
    }
   ],
   "source": [
    "combined_resp"
   ]
  },
  {
   "cell_type": "code",
   "execution_count": 20,
   "metadata": {},
   "outputs": [],
   "source": [
    "import microdf as mdf"
   ]
  },
  {
   "cell_type": "code",
   "execution_count": 25,
   "metadata": {},
   "outputs": [
    {
     "data": {
      "text/plain": "count    210586.000000\nmean          0.057387\nstd           2.754779\nmin           0.000000\n25%           0.000000\n50%           0.000000\n75%           0.000000\nmax         380.000000\nName: t100102, dtype: float64"
     },
     "execution_count": 25,
     "metadata": {},
     "output_type": "execute_result"
    }
   ],
   "source": [
    "combined_summary.t100102.describe()"
   ]
  },
  {
   "cell_type": "code",
   "execution_count": 26,
   "metadata": {},
   "outputs": [
    {
     "data": {
      "text/plain": "count    210586.000000\nmean          0.085215\nstd           3.264254\nmin           0.000000\n25%           0.000000\n50%           0.000000\n75%           0.000000\nmax         380.000000\nName: combined_soc_ser, dtype: float64"
     },
     "execution_count": 26,
     "metadata": {},
     "output_type": "execute_result"
    }
   ],
   "source": [
    "combined_summary[\"combined_soc_ser\"]=combined_summary.t100102+combined_summary.t100381\n",
    "combined_summary.combined_soc_ser.describe()\n",
    "# For the combined survey: 10-03-81 : Waiting associated with using government services"
   ]
  },
  {
   "cell_type": "code",
   "execution_count": 27,
   "metadata": {},
   "outputs": [
    {
     "data": {
      "text/plain": "count    2.105860e+05\nmean     7.219147e+06\nstd      6.872690e+06\nmin      4.194717e+05\n25%      2.949501e+06\n50%      5.248605e+06\n75%      8.856077e+06\nmax      2.090100e+08\nName: TUFNWGTP, dtype: float64"
     },
     "execution_count": 27,
     "metadata": {},
     "output_type": "execute_result"
    }
   ],
   "source": [
    "combined_summary.TUFNWGTP.describe()\n",
    "# TUFNWGTP = ATUS statistical weight for combined file"
   ]
  },
  {
   "cell_type": "code",
   "execution_count": 28,
   "metadata": {},
   "outputs": [
    {
     "data": {
      "text/plain": "173434724858.2461"
     },
     "execution_count": 28,
     "metadata": {},
     "output_type": "execute_result"
    }
   ],
   "source": [
    "(combined_summary.combined_soc_ser*combined_summary.TUFNWGTP).sum()"
   ]
  },
  {
   "cell_type": "code",
   "execution_count": 29,
   "metadata": {},
   "outputs": [],
   "source": [
    "combined_summary[\"combined_has_soc_ser\"]=combined_summary.combined_soc_ser>0\n",
    "combined_summary[\"female\"]=combined_summary.TESEX==2\n",
    "combined_summary[\"white\"]=combined_summary.PTDTRACE==1\n",
    "# creates flag to check if someone uses social services at all"
   ]
  },
  {
   "cell_type": "code",
   "execution_count": 30,
   "metadata": {},
   "outputs": [
    {
     "data": {
      "text/plain": "271"
     },
     "execution_count": 30,
     "metadata": {},
     "output_type": "execute_result"
    }
   ],
   "source": [
    "combined_summary.combined_has_soc_ser.sum()\n",
    "# number of people who reported using social services on survey between 2003 and 2019"
   ]
  },
  {
   "cell_type": "code",
   "execution_count": 31,
   "metadata": {},
   "outputs": [
    {
     "data": {
      "text/plain": "TESEX\n1    7.565671e+10\n2    9.777802e+10\ndtype: float64"
     },
     "execution_count": 31,
     "metadata": {},
     "output_type": "execute_result"
    }
   ],
   "source": [
    "mdf.weighted_sum(combined_summary,\"combined_soc_ser\",\"TUFNWGTP\")\n",
    "mdf.weighted_sum(combined_summary,\"combined_soc_ser\",\"TUFNWGTP\",groupby=\"TESEX\")\n",
    "# 1 = male, 2 = female"
   ]
  },
  {
   "cell_type": "code",
   "execution_count": 32,
   "metadata": {},
   "outputs": [],
   "source": [
    "mean_by_sex = mdf.weighted_mean(combined_summary,\"combined_has_soc_ser\",\"TUFNWGTP\",groupby=\"TESEX\")"
   ]
  },
  {
   "cell_type": "code",
   "execution_count": 33,
   "metadata": {},
   "outputs": [
    {
     "data": {
      "text/plain": "PTDTRACE\n1     1.229820e+11\n2     3.886001e+10\n3     4.113624e+09\n4     4.704052e+09\n5     0.000000e+00\n6     0.000000e+00\n7     1.518295e+08\n8     0.000000e+00\n9     4.112810e+08\n10    0.000000e+00\n11    0.000000e+00\n12    0.000000e+00\n13    0.000000e+00\n14    0.000000e+00\n15    2.211918e+09\n16    0.000000e+00\n17    0.000000e+00\n18    0.000000e+00\n19    0.000000e+00\n20    0.000000e+00\n21    0.000000e+00\n23    0.000000e+00\n25    0.000000e+00\ndtype: float64"
     },
     "execution_count": 33,
     "metadata": {},
     "output_type": "execute_result"
    }
   ],
   "source": [
    "mdf.weighted_sum(combined_summary,\"combined_soc_ser\",\"TUFNWGTP\")\n",
    "mdf.weighted_sum(combined_summary,\"combined_soc_ser\",\"TUFNWGTP\",groupby=\"PTDTRACE\")\n"
   ]
  },
  {
   "cell_type": "code",
   "execution_count": 34,
   "metadata": {},
   "outputs": [
    {
     "data": {
      "text/plain": "PTDTRACE\n1     0.001469\n2     0.002865\n3     0.003781\n4     0.001301\n5     0.000000\n6     0.000000\n7     0.000332\n8     0.000000\n9     0.025523\n10    0.000000\n11    0.000000\n12    0.000000\n13    0.000000\n14    0.000000\n15    0.015174\n16    0.000000\n17    0.000000\n18    0.000000\n19    0.000000\n20    0.000000\n21    0.000000\n23    0.000000\n25    0.000000\ndtype: float64"
     },
     "execution_count": 34,
     "metadata": {},
     "output_type": "execute_result"
    }
   ],
   "source": [
    "mdf.weighted_mean(combined_summary,\"combined_has_soc_ser\",\"TUFNWGTP\",groupby=\"PTDTRACE\")"
   ]
  },
  {
   "cell_type": "code",
   "execution_count": 35,
   "metadata": {},
   "outputs": [],
   "source": [
    "import plotly.express as px\n",
    "import ubicenter"
   ]
  },
  {
   "cell_type": "code",
   "execution_count": 36,
   "metadata": {},
   "outputs": [
    {
     "data": {
      "text/html": "<div>\n<style scoped>\n    .dataframe tbody tr th:only-of-type {\n        vertical-align: middle;\n    }\n\n    .dataframe tbody tr th {\n        vertical-align: top;\n    }\n\n    .dataframe thead th {\n        text-align: right;\n    }\n</style>\n<table border=\"1\" class=\"dataframe\">\n  <thead>\n    <tr style=\"text-align: right;\">\n      <th></th>\n      <th>TESEX</th>\n      <th>mean</th>\n    </tr>\n  </thead>\n  <tbody>\n    <tr>\n      <th>0</th>\n      <td>1</td>\n      <td>0.001298</td>\n    </tr>\n    <tr>\n      <th>1</th>\n      <td>2</td>\n      <td>0.001964</td>\n    </tr>\n  </tbody>\n</table>\n</div>",
      "text/plain": "   TESEX      mean\n0      1  0.001298\n1      2  0.001964"
     },
     "execution_count": 36,
     "metadata": {},
     "output_type": "execute_result"
    }
   ],
   "source": [
    "mean_by_sex.reset_index().rename(columns={0:\"mean\"})"
   ]
  },
  {
   "cell_type": "code",
   "execution_count": 37,
   "metadata": {},
   "outputs": [
    {
     "data": {
      "application/vnd.plotly.v1+json": {
       "config": {
        "displayModeBar": false,
        "plotlyServerURL": "https://plot.ly"
       },
       "data": [
        {
         "alignmentgroup": "True",
         "hovertemplate": "TESEX=%{x}<br>mean=%{y}<extra></extra>",
         "legendgroup": "",
         "marker": {
          "color": "#636efa"
         },
         "name": "",
         "offsetgroup": "",
         "orientation": "v",
         "showlegend": false,
         "textposition": "auto",
         "type": "bar",
         "x": [
          1,
          2
         ],
         "xaxis": "x",
         "y": [
          0.0012977409213953696,
          0.001963679880217597
         ],
         "yaxis": "y"
        }
       ],
       "layout": {
        "barmode": "relative",
        "font": {
         "family": "Roboto"
        },
        "height": 800,
        "hoverlabel": {
         "align": "right"
        },
        "images": [
         {
          "sizex": 0.12,
          "sizey": 0.12,
          "source": "https://raw.githubusercontent.com/UBICenter/blog/master/jb/_static/ubi_center_logo_wide_blue.png",
          "x": 0.98,
          "xanchor": "right",
          "xref": "paper",
          "y": -0.12,
          "yanchor": "bottom",
          "yref": "paper"
         }
        ],
        "legend": {
         "tracegroupgap": 0
        },
        "margin": {
         "t": 60
        },
        "paper_bgcolor": "white",
        "plot_bgcolor": "white",
        "template": {
         "data": {
          "bar": [
           {
            "error_x": {
             "color": "#2a3f5f"
            },
            "error_y": {
             "color": "#2a3f5f"
            },
            "marker": {
             "line": {
              "color": "#E5ECF6",
              "width": 0.5
             }
            },
            "type": "bar"
           }
          ],
          "barpolar": [
           {
            "marker": {
             "line": {
              "color": "#E5ECF6",
              "width": 0.5
             }
            },
            "type": "barpolar"
           }
          ],
          "carpet": [
           {
            "aaxis": {
             "endlinecolor": "#2a3f5f",
             "gridcolor": "white",
             "linecolor": "white",
             "minorgridcolor": "white",
             "startlinecolor": "#2a3f5f"
            },
            "baxis": {
             "endlinecolor": "#2a3f5f",
             "gridcolor": "white",
             "linecolor": "white",
             "minorgridcolor": "white",
             "startlinecolor": "#2a3f5f"
            },
            "type": "carpet"
           }
          ],
          "choropleth": [
           {
            "colorbar": {
             "outlinewidth": 0,
             "ticks": ""
            },
            "type": "choropleth"
           }
          ],
          "contour": [
           {
            "colorbar": {
             "outlinewidth": 0,
             "ticks": ""
            },
            "colorscale": [
             [
              0,
              "#0d0887"
             ],
             [
              0.1111111111111111,
              "#46039f"
             ],
             [
              0.2222222222222222,
              "#7201a8"
             ],
             [
              0.3333333333333333,
              "#9c179e"
             ],
             [
              0.4444444444444444,
              "#bd3786"
             ],
             [
              0.5555555555555556,
              "#d8576b"
             ],
             [
              0.6666666666666666,
              "#ed7953"
             ],
             [
              0.7777777777777778,
              "#fb9f3a"
             ],
             [
              0.8888888888888888,
              "#fdca26"
             ],
             [
              1,
              "#f0f921"
             ]
            ],
            "type": "contour"
           }
          ],
          "contourcarpet": [
           {
            "colorbar": {
             "outlinewidth": 0,
             "ticks": ""
            },
            "type": "contourcarpet"
           }
          ],
          "heatmap": [
           {
            "colorbar": {
             "outlinewidth": 0,
             "ticks": ""
            },
            "colorscale": [
             [
              0,
              "#0d0887"
             ],
             [
              0.1111111111111111,
              "#46039f"
             ],
             [
              0.2222222222222222,
              "#7201a8"
             ],
             [
              0.3333333333333333,
              "#9c179e"
             ],
             [
              0.4444444444444444,
              "#bd3786"
             ],
             [
              0.5555555555555556,
              "#d8576b"
             ],
             [
              0.6666666666666666,
              "#ed7953"
             ],
             [
              0.7777777777777778,
              "#fb9f3a"
             ],
             [
              0.8888888888888888,
              "#fdca26"
             ],
             [
              1,
              "#f0f921"
             ]
            ],
            "type": "heatmap"
           }
          ],
          "heatmapgl": [
           {
            "colorbar": {
             "outlinewidth": 0,
             "ticks": ""
            },
            "colorscale": [
             [
              0,
              "#0d0887"
             ],
             [
              0.1111111111111111,
              "#46039f"
             ],
             [
              0.2222222222222222,
              "#7201a8"
             ],
             [
              0.3333333333333333,
              "#9c179e"
             ],
             [
              0.4444444444444444,
              "#bd3786"
             ],
             [
              0.5555555555555556,
              "#d8576b"
             ],
             [
              0.6666666666666666,
              "#ed7953"
             ],
             [
              0.7777777777777778,
              "#fb9f3a"
             ],
             [
              0.8888888888888888,
              "#fdca26"
             ],
             [
              1,
              "#f0f921"
             ]
            ],
            "type": "heatmapgl"
           }
          ],
          "histogram": [
           {
            "marker": {
             "colorbar": {
              "outlinewidth": 0,
              "ticks": ""
             }
            },
            "type": "histogram"
           }
          ],
          "histogram2d": [
           {
            "colorbar": {
             "outlinewidth": 0,
             "ticks": ""
            },
            "colorscale": [
             [
              0,
              "#0d0887"
             ],
             [
              0.1111111111111111,
              "#46039f"
             ],
             [
              0.2222222222222222,
              "#7201a8"
             ],
             [
              0.3333333333333333,
              "#9c179e"
             ],
             [
              0.4444444444444444,
              "#bd3786"
             ],
             [
              0.5555555555555556,
              "#d8576b"
             ],
             [
              0.6666666666666666,
              "#ed7953"
             ],
             [
              0.7777777777777778,
              "#fb9f3a"
             ],
             [
              0.8888888888888888,
              "#fdca26"
             ],
             [
              1,
              "#f0f921"
             ]
            ],
            "type": "histogram2d"
           }
          ],
          "histogram2dcontour": [
           {
            "colorbar": {
             "outlinewidth": 0,
             "ticks": ""
            },
            "colorscale": [
             [
              0,
              "#0d0887"
             ],
             [
              0.1111111111111111,
              "#46039f"
             ],
             [
              0.2222222222222222,
              "#7201a8"
             ],
             [
              0.3333333333333333,
              "#9c179e"
             ],
             [
              0.4444444444444444,
              "#bd3786"
             ],
             [
              0.5555555555555556,
              "#d8576b"
             ],
             [
              0.6666666666666666,
              "#ed7953"
             ],
             [
              0.7777777777777778,
              "#fb9f3a"
             ],
             [
              0.8888888888888888,
              "#fdca26"
             ],
             [
              1,
              "#f0f921"
             ]
            ],
            "type": "histogram2dcontour"
           }
          ],
          "mesh3d": [
           {
            "colorbar": {
             "outlinewidth": 0,
             "ticks": ""
            },
            "type": "mesh3d"
           }
          ],
          "parcoords": [
           {
            "line": {
             "colorbar": {
              "outlinewidth": 0,
              "ticks": ""
             }
            },
            "type": "parcoords"
           }
          ],
          "pie": [
           {
            "automargin": true,
            "type": "pie"
           }
          ],
          "scatter": [
           {
            "marker": {
             "colorbar": {
              "outlinewidth": 0,
              "ticks": ""
             }
            },
            "type": "scatter"
           }
          ],
          "scatter3d": [
           {
            "line": {
             "colorbar": {
              "outlinewidth": 0,
              "ticks": ""
             }
            },
            "marker": {
             "colorbar": {
              "outlinewidth": 0,
              "ticks": ""
             }
            },
            "type": "scatter3d"
           }
          ],
          "scattercarpet": [
           {
            "marker": {
             "colorbar": {
              "outlinewidth": 0,
              "ticks": ""
             }
            },
            "type": "scattercarpet"
           }
          ],
          "scattergeo": [
           {
            "marker": {
             "colorbar": {
              "outlinewidth": 0,
              "ticks": ""
             }
            },
            "type": "scattergeo"
           }
          ],
          "scattergl": [
           {
            "marker": {
             "colorbar": {
              "outlinewidth": 0,
              "ticks": ""
             }
            },
            "type": "scattergl"
           }
          ],
          "scattermapbox": [
           {
            "marker": {
             "colorbar": {
              "outlinewidth": 0,
              "ticks": ""
             }
            },
            "type": "scattermapbox"
           }
          ],
          "scatterpolar": [
           {
            "marker": {
             "colorbar": {
              "outlinewidth": 0,
              "ticks": ""
             }
            },
            "type": "scatterpolar"
           }
          ],
          "scatterpolargl": [
           {
            "marker": {
             "colorbar": {
              "outlinewidth": 0,
              "ticks": ""
             }
            },
            "type": "scatterpolargl"
           }
          ],
          "scatterternary": [
           {
            "marker": {
             "colorbar": {
              "outlinewidth": 0,
              "ticks": ""
             }
            },
            "type": "scatterternary"
           }
          ],
          "surface": [
           {
            "colorbar": {
             "outlinewidth": 0,
             "ticks": ""
            },
            "colorscale": [
             [
              0,
              "#0d0887"
             ],
             [
              0.1111111111111111,
              "#46039f"
             ],
             [
              0.2222222222222222,
              "#7201a8"
             ],
             [
              0.3333333333333333,
              "#9c179e"
             ],
             [
              0.4444444444444444,
              "#bd3786"
             ],
             [
              0.5555555555555556,
              "#d8576b"
             ],
             [
              0.6666666666666666,
              "#ed7953"
             ],
             [
              0.7777777777777778,
              "#fb9f3a"
             ],
             [
              0.8888888888888888,
              "#fdca26"
             ],
             [
              1,
              "#f0f921"
             ]
            ],
            "type": "surface"
           }
          ],
          "table": [
           {
            "cells": {
             "fill": {
              "color": "#EBF0F8"
             },
             "line": {
              "color": "white"
             }
            },
            "header": {
             "fill": {
              "color": "#C8D4E3"
             },
             "line": {
              "color": "white"
             }
            },
            "type": "table"
           }
          ]
         },
         "layout": {
          "annotationdefaults": {
           "arrowcolor": "#2a3f5f",
           "arrowhead": 0,
           "arrowwidth": 1
          },
          "autotypenumbers": "strict",
          "coloraxis": {
           "colorbar": {
            "outlinewidth": 0,
            "ticks": ""
           }
          },
          "colorscale": {
           "diverging": [
            [
             0,
             "#8e0152"
            ],
            [
             0.1,
             "#c51b7d"
            ],
            [
             0.2,
             "#de77ae"
            ],
            [
             0.3,
             "#f1b6da"
            ],
            [
             0.4,
             "#fde0ef"
            ],
            [
             0.5,
             "#f7f7f7"
            ],
            [
             0.6,
             "#e6f5d0"
            ],
            [
             0.7,
             "#b8e186"
            ],
            [
             0.8,
             "#7fbc41"
            ],
            [
             0.9,
             "#4d9221"
            ],
            [
             1,
             "#276419"
            ]
           ],
           "sequential": [
            [
             0,
             "#0d0887"
            ],
            [
             0.1111111111111111,
             "#46039f"
            ],
            [
             0.2222222222222222,
             "#7201a8"
            ],
            [
             0.3333333333333333,
             "#9c179e"
            ],
            [
             0.4444444444444444,
             "#bd3786"
            ],
            [
             0.5555555555555556,
             "#d8576b"
            ],
            [
             0.6666666666666666,
             "#ed7953"
            ],
            [
             0.7777777777777778,
             "#fb9f3a"
            ],
            [
             0.8888888888888888,
             "#fdca26"
            ],
            [
             1,
             "#f0f921"
            ]
           ],
           "sequentialminus": [
            [
             0,
             "#0d0887"
            ],
            [
             0.1111111111111111,
             "#46039f"
            ],
            [
             0.2222222222222222,
             "#7201a8"
            ],
            [
             0.3333333333333333,
             "#9c179e"
            ],
            [
             0.4444444444444444,
             "#bd3786"
            ],
            [
             0.5555555555555556,
             "#d8576b"
            ],
            [
             0.6666666666666666,
             "#ed7953"
            ],
            [
             0.7777777777777778,
             "#fb9f3a"
            ],
            [
             0.8888888888888888,
             "#fdca26"
            ],
            [
             1,
             "#f0f921"
            ]
           ]
          },
          "colorway": [
           "#636efa",
           "#EF553B",
           "#00cc96",
           "#ab63fa",
           "#FFA15A",
           "#19d3f3",
           "#FF6692",
           "#B6E880",
           "#FF97FF",
           "#FECB52"
          ],
          "font": {
           "color": "#2a3f5f"
          },
          "geo": {
           "bgcolor": "white",
           "lakecolor": "white",
           "landcolor": "#E5ECF6",
           "showlakes": true,
           "showland": true,
           "subunitcolor": "white"
          },
          "hoverlabel": {
           "align": "left"
          },
          "hovermode": "closest",
          "mapbox": {
           "style": "light"
          },
          "paper_bgcolor": "white",
          "plot_bgcolor": "#E5ECF6",
          "polar": {
           "angularaxis": {
            "gridcolor": "white",
            "linecolor": "white",
            "ticks": ""
           },
           "bgcolor": "#E5ECF6",
           "radialaxis": {
            "gridcolor": "white",
            "linecolor": "white",
            "ticks": ""
           }
          },
          "scene": {
           "xaxis": {
            "backgroundcolor": "#E5ECF6",
            "gridcolor": "white",
            "gridwidth": 2,
            "linecolor": "white",
            "showbackground": true,
            "ticks": "",
            "zerolinecolor": "white"
           },
           "yaxis": {
            "backgroundcolor": "#E5ECF6",
            "gridcolor": "white",
            "gridwidth": 2,
            "linecolor": "white",
            "showbackground": true,
            "ticks": "",
            "zerolinecolor": "white"
           },
           "zaxis": {
            "backgroundcolor": "#E5ECF6",
            "gridcolor": "white",
            "gridwidth": 2,
            "linecolor": "white",
            "showbackground": true,
            "ticks": "",
            "zerolinecolor": "white"
           }
          },
          "shapedefaults": {
           "line": {
            "color": "#2a3f5f"
           }
          },
          "ternary": {
           "aaxis": {
            "gridcolor": "white",
            "linecolor": "white",
            "ticks": ""
           },
           "baxis": {
            "gridcolor": "white",
            "linecolor": "white",
            "ticks": ""
           },
           "bgcolor": "#E5ECF6",
           "caxis": {
            "gridcolor": "white",
            "linecolor": "white",
            "ticks": ""
           }
          },
          "title": {
           "x": 0.05
          },
          "xaxis": {
           "automargin": true,
           "gridcolor": "white",
           "linecolor": "white",
           "ticks": "",
           "title": {
            "standoff": 15
           },
           "zerolinecolor": "white",
           "zerolinewidth": 2
          },
          "yaxis": {
           "automargin": true,
           "gridcolor": "white",
           "linecolor": "white",
           "ticks": "",
           "title": {
            "standoff": 15
           },
           "zerolinecolor": "white",
           "zerolinewidth": 2
          }
         }
        },
        "title": {
         "font": {
          "size": 20
         }
        },
        "width": 1000,
        "xaxis": {
         "anchor": "y",
         "domain": [
          0,
          1
         ],
         "tickfont": {
          "size": 14
         },
         "title": {
          "font": {
           "color": "black",
           "size": 16
          },
          "text": "TESEX"
         }
        },
        "yaxis": {
         "anchor": "x",
         "domain": [
          0,
          1
         ],
         "tickfont": {
          "size": 14
         },
         "title": {
          "font": {
           "color": "black",
           "size": 16
          },
          "text": "mean"
         }
        }
       }
      }
     },
     "metadata": {},
     "output_type": "display_data"
    }
   ],
   "source": [
    "fig = px.bar(mean_by_sex.reset_index().rename(columns={0:\"mean\"}),x=\"TESEX\",y=\"mean\")\n",
    "ubicenter.format_fig(fig)"
   ]
  },
  {
   "cell_type": "code",
   "execution_count": 38,
   "metadata": {},
   "outputs": [],
   "source": [
    "import statsmodels.api as sm\n",
    "import numpy as np"
   ]
  },
  {
   "cell_type": "code",
   "execution_count": 39,
   "metadata": {},
   "outputs": [
    {
     "data": {
      "text/html": "<table class=\"simpletable\">\n<caption>WLS Regression Results</caption>\n<tr>\n  <th>Dep. Variable:</th>    <td>combined_soc_ser</td> <th>  R-squared:         </th>  <td>   0.000</td>  \n</tr>\n<tr>\n  <th>Model:</th>                   <td>WLS</td>       <th>  Adj. R-squared:    </th>  <td>   0.000</td>  \n</tr>\n<tr>\n  <th>Method:</th>             <td>Least Squares</td>  <th>  F-statistic:       </th>  <td>   7.866</td>  \n</tr>\n<tr>\n  <th>Date:</th>             <td>Wed, 09 Jun 2021</td> <th>  Prob (F-statistic):</th>  <td>0.000384</td>  \n</tr>\n<tr>\n  <th>Time:</th>                 <td>12:21:03</td>     <th>  Log-Likelihood:    </th> <td>-6.1590e+05</td>\n</tr>\n<tr>\n  <th>No. Observations:</th>      <td>210586</td>      <th>  AIC:               </th>  <td>1.232e+06</td> \n</tr>\n<tr>\n  <th>Df Residuals:</th>          <td>210583</td>      <th>  BIC:               </th>  <td>1.232e+06</td> \n</tr>\n<tr>\n  <th>Df Model:</th>              <td>     2</td>      <th>                     </th>      <td> </td>     \n</tr>\n<tr>\n  <th>Covariance Type:</th>      <td>nonrobust</td>    <th>                     </th>      <td> </td>     \n</tr>\n</table>\n<table class=\"simpletable\">\n<tr>\n     <td></td>       <th>coef</th>     <th>std err</th>      <th>t</th>      <th>P>|t|</th>  <th>[0.025</th>    <th>0.975]</th>  \n</tr>\n<tr>\n  <th>const</th>  <td>    0.1699</td> <td>    0.022</td> <td>    7.875</td> <td> 0.000</td> <td>    0.128</td> <td>    0.212</td>\n</tr>\n<tr>\n  <th>female</th> <td>    0.0205</td> <td>    0.017</td> <td>    1.220</td> <td> 0.222</td> <td>   -0.012</td> <td>    0.053</td>\n</tr>\n<tr>\n  <th>white</th>  <td>   -0.0813</td> <td>    0.022</td> <td>   -3.749</td> <td> 0.000</td> <td>   -0.124</td> <td>   -0.039</td>\n</tr>\n</table>\n<table class=\"simpletable\">\n<tr>\n  <th>Omnibus:</th>       <td>734428.122</td> <th>  Durbin-Watson:     </th>     <td>   2.001</td>    \n</tr>\n<tr>\n  <th>Prob(Omnibus):</th>   <td> 0.000</td>   <th>  Jarque-Bera (JB):  </th> <td>347367001529.643</td>\n</tr>\n<tr>\n  <th>Skew:</th>            <td>67.393</td>   <th>  Prob(JB):          </th>     <td>    0.00</td>    \n</tr>\n<tr>\n  <th>Kurtosis:</th>       <td>6293.505</td>  <th>  Cond. No.          </th>     <td>    5.02</td>    \n</tr>\n</table><br/><br/>Notes:<br/>[1] Standard Errors assume that the covariance matrix of the errors is correctly specified.",
      "text/plain": "<class 'statsmodels.iolib.summary.Summary'>\n\"\"\"\n                            WLS Regression Results                            \n==============================================================================\nDep. Variable:       combined_soc_ser   R-squared:                       0.000\nModel:                            WLS   Adj. R-squared:                  0.000\nMethod:                 Least Squares   F-statistic:                     7.866\nDate:                Wed, 09 Jun 2021   Prob (F-statistic):           0.000384\nTime:                        12:21:03   Log-Likelihood:            -6.1590e+05\nNo. Observations:              210586   AIC:                         1.232e+06\nDf Residuals:                  210583   BIC:                         1.232e+06\nDf Model:                           2                                         \nCovariance Type:            nonrobust                                         \n==============================================================================\n                 coef    std err          t      P>|t|      [0.025      0.975]\n------------------------------------------------------------------------------\nconst          0.1699      0.022      7.875      0.000       0.128       0.212\nfemale         0.0205      0.017      1.220      0.222      -0.012       0.053\nwhite         -0.0813      0.022     -3.749      0.000      -0.124      -0.039\n==============================================================================\nOmnibus:                   734428.122   Durbin-Watson:                   2.001\nProb(Omnibus):                  0.000   Jarque-Bera (JB):     347367001529.643\nSkew:                          67.393   Prob(JB):                         0.00\nKurtosis:                    6293.505   Cond. No.                         5.02\n==============================================================================\n\nNotes:\n[1] Standard Errors assume that the covariance matrix of the errors is correctly specified.\n\"\"\""
     },
     "execution_count": 39,
     "metadata": {},
     "output_type": "execute_result"
    }
   ],
   "source": [
    "reg = sm.WLS(combined_summary.combined_soc_ser,sm.add_constant(combined_summary[[\"female\",\"white\"]].astype(int)),weights=combined_summary.TUFNWGTP).fit()\n",
    "reg.summary()"
   ]
  },
  {
   "cell_type": "code",
   "execution_count": 40,
   "metadata": {},
   "outputs": [
    {
     "data": {
      "text/plain": "const     0.169911\nfemale    0.020499\nwhite    -0.081328\ndtype: float64"
     },
     "execution_count": 40,
     "metadata": {},
     "output_type": "execute_result"
    }
   ],
   "source": [
    "reg.params"
   ]
  },
  {
   "cell_type": "code",
   "execution_count": 41,
   "metadata": {},
   "outputs": [
    {
     "data": {
      "text/plain": "<AxesSubplot:>"
     },
     "execution_count": 41,
     "metadata": {},
     "output_type": "execute_result"
    },
    {
     "data": {
      "image/png": "[encoded data removed]",
      "text/plain": "<Figure size 432x288 with 1 Axes>"
     },
     "metadata": {
      "needs_background": "light"
     },
     "output_type": "display_data"
    }
   ],
   "source": [
    "reg.params.plot()"
   ]
  },
  {
   "cell_type": "code",
   "execution_count": 42,
   "metadata": {},
   "outputs": [
    {
     "data": {
      "text/plain": "count    210586.000000\nmean      48624.782407\nstd       66135.696214\nmin          -1.000000\n25%          -1.000000\n50%       20000.000000\n75%       76923.000000\nmax      288461.000000\nName: TRERNWA, dtype: float64"
     },
     "execution_count": 42,
     "metadata": {},
     "output_type": "execute_result"
    }
   ],
   "source": [
    "combined_summary.TRERNWA.describe()\n",
    "# TRERNWA = Weekly earnings\n",
    "# There is also a family income varible (HUFAMINC or HEFAMINC) but there's a note that there is high level of nonresponse with this question\n",
    "# Looked up poverty guidelines, different by state and also number of people in the household \n",
    "# --> how can we use this to figure out who would be eligible for welfare\n",
    "# TRNUMHOU = Number of people living in respondent's household (respondent file)\n",
    "# TROHHCHILD = Presence of own household children < 18 (respondent file)\n",
    "# TRSPFTPT = Full time or part time employment status of spouse or unmarried partner (summary file)"
   ]
  },
  {
   "cell_type": "code",
   "execution_count": 43,
   "metadata": {},
   "outputs": [
    {
     "data": {
      "text/plain": "<AxesSubplot:ylabel='Density'>"
     },
     "execution_count": 43,
     "metadata": {},
     "output_type": "execute_result"
    },
    {
     "data": {
      "image/png": "[encoded data removed]",
      "text/plain": "<Figure size 1152x432 with 1 Axes>"
     },
     "metadata": {
      "needs_background": "light"
     },
     "output_type": "display_data"
    }
   ],
   "source": [
    "combined_summary['TRERNWA'].plot(kind='density', figsize=(16,6))"
   ]
  },
  {
   "cell_type": "code",
   "execution_count": null,
   "metadata": {},
   "outputs": [],
   "source": []
  }
 ],
 "metadata": {
  "kernelspec": {
   "display_name": "Python 3.8.5 64-bit ('base': conda)",
   "name": "python385jvsc74a57bd0a87a6634a0dcebfb734cb3540c817ce577a81555956be040596a326c6551ba1e"
  },
  "language_info": {
   "name": "python",
   "version": ""
  },
  "orig_nbformat": 2
 },
 "nbformat": 4,
 "nbformat_minor": 2
}